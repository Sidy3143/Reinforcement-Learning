{
  "nbformat": 4,
  "nbformat_minor": 0,
  "metadata": {
    "colab": {
      "provenance": [],
      "gpuType": "T4",
      "authorship_tag": "ABX9TyP1VJqWXKZdTwRTX/yJf74l",
      "include_colab_link": true
    },
    "kernelspec": {
      "name": "python3",
      "display_name": "Python 3"
    },
    "language_info": {
      "name": "python"
    },
    "accelerator": "GPU"
  },
  "cells": [
    {
      "cell_type": "markdown",
      "metadata": {
        "id": "view-in-github",
        "colab_type": "text"
      },
      "source": [
        "<a href=\"https://colab.research.google.com/github/Sidy3143/Reinforcement-Learning/blob/main/SAC_Pytorch.ipynb\" target=\"_parent\"><img src=\"https://colab.research.google.com/assets/colab-badge.svg\" alt=\"Open In Colab\"/></a>"
      ]
    },
    {
      "cell_type": "markdown",
      "source": [
        "SAC is an **Off Policy** algorithm\n",
        "\n",
        "rsample is a **reparameterization trick** that allows to backpropagate through the sampling. Using y= mu + sigma*epsilon , with epsilon randomly choosen.\n",
        "\n"
      ],
      "metadata": {
        "id": "IIbOQ6KXTm_U"
      }
    },
    {
      "cell_type": "markdown",
      "source": [
        "Value function target:\n",
        "\n",
        "         V(s) = E[Q(s, a) - log π(a|s)]\n",
        "\n",
        "        maximize rewards while maintaining sufficient exploration\n",
        "\n",
        "actor_loss:\n",
        "\n",
        "          αlogπ(a∣s)−Qπ(s,a):\n",
        "\n",
        "          minimize log actions --> favorize low probabilities --> exploration,  \n",
        "          minimize -Q values --> maximize Q values,\n",
        "          alpha --> importance of exploration\n",
        "\n",
        "Critic Loss:\n",
        "          \n",
        "          q_hat = self.scale*reward + self.gamma*value_:\n",
        "\n",
        "          value_\n",
        "          --> produced by Value Network\n",
        "          --> which optimizes high Q values\n",
        "          --> which are produced by critic  \n",
        "          --> **interconectedness**\n"
      ],
      "metadata": {
        "id": "iVwIhU4_gXTw"
      }
    },
    {
      "cell_type": "code",
      "source": [
        "import os\n",
        "import torch as T\n",
        "import torch.nn.functional as F\n",
        "import torch.nn as nn\n",
        "import torch.optim as optim\n",
        "from torch.distributions.normal import Normal\n",
        "import numpy as np\n",
        "import matplotlib.pyplot as plt\n",
        "\n",
        "class CriticNetwork(nn.Module):\n",
        "    def __init__(self, beta, input_dims, n_actions, fc1_dims=256, fc2_dims=256,\n",
        "            name='critic', chkpt_dir='tmp/sac'):\n",
        "        super(CriticNetwork, self).__init__()\n",
        "        self.input_dims = input_dims\n",
        "        self.fc1_dims = fc1_dims\n",
        "        self.fc2_dims = fc2_dims\n",
        "        self.n_actions = n_actions\n",
        "        self.name = name\n",
        "        self.checkpoint_dir = chkpt_dir\n",
        "        self.checkpoint_file = os.path.join(self.checkpoint_dir, name+'_sac')\n",
        "\n",
        "        self.fc1 = nn.Linear(self.input_dims[0]+n_actions, self.fc1_dims)\n",
        "        self.fc2 = nn.Linear(self.fc1_dims, self.fc2_dims)\n",
        "        self.q = nn.Linear(self.fc2_dims, 1)\n",
        "\n",
        "        self.optimizer = optim.Adam(self.parameters(), lr=beta)\n",
        "        self.device = T.device('cuda:0' if T.cuda.is_available() else 'cpu')\n",
        "\n",
        "        self.to(self.device)\n",
        "\n",
        "    def forward(self, state, action):\n",
        "        action_value = self.fc1(T.cat([state, action], dim=1))\n",
        "        action_value = F.relu(action_value)\n",
        "        action_value = self.fc2(action_value)\n",
        "        action_value = F.relu(action_value)\n",
        "\n",
        "        q = self.q(action_value)\n",
        "\n",
        "        return q\n",
        "\n",
        "    def save_checkpoint(self):\n",
        "        T.save(self.state_dict(), self.checkpoint_file)\n",
        "\n",
        "    def load_checkpoint(self):\n",
        "        self.load_state_dict(T.load(self.checkpoint_file))\n",
        "\n",
        "class ValueNetwork(nn.Module):\n",
        "    def __init__(self, beta, input_dims, fc1_dims=256, fc2_dims=256,\n",
        "            name='value', chkpt_dir='tmp/sac'):\n",
        "        super(ValueNetwork, self).__init__()\n",
        "        self.input_dims = input_dims\n",
        "        self.fc1_dims = fc1_dims\n",
        "        self.fc2_dims = fc2_dims\n",
        "        self.name = name\n",
        "        self.checkpoint_dir = chkpt_dir\n",
        "        self.checkpoint_file = os.path.join(self.checkpoint_dir, name+'_sac')\n",
        "\n",
        "        self.fc1 = nn.Linear(*self.input_dims, self.fc1_dims)\n",
        "        self.fc2 = nn.Linear(self.fc1_dims, fc2_dims)\n",
        "        self.v = nn.Linear(self.fc2_dims, 1)\n",
        "\n",
        "        self.optimizer = optim.Adam(self.parameters(), lr=beta)\n",
        "        self.device = T.device('cuda:0' if T.cuda.is_available() else 'cpu')\n",
        "\n",
        "        self.to(self.device)\n",
        "\n",
        "    def forward(self, state):\n",
        "        state_value = self.fc1(state)\n",
        "        state_value = F.relu(state_value)\n",
        "        state_value = self.fc2(state_value)\n",
        "        state_value = F.relu(state_value)\n",
        "\n",
        "        v = self.v(state_value)\n",
        "\n",
        "        return v\n",
        "\n",
        "    def save_checkpoint(self):\n",
        "        T.save(self.state_dict(), self.checkpoint_file)\n",
        "\n",
        "    def load_checkpoint(self):\n",
        "        self.load_state_dict(T.load(self.checkpoint_file))\n",
        "\n",
        "class ActorNetwork(nn.Module):\n",
        "    def __init__(self, alpha, input_dims, max_action, fc1_dims=256,\n",
        "            fc2_dims=256, n_actions=2, name='actor', chkpt_dir='tmp/sac'):\n",
        "        super(ActorNetwork, self).__init__()\n",
        "        self.input_dims = input_dims\n",
        "        self.fc1_dims = fc1_dims\n",
        "        self.fc2_dims = fc2_dims\n",
        "        self.n_actions = n_actions\n",
        "        self.name = name\n",
        "        self.checkpoint_dir = chkpt_dir\n",
        "        self.checkpoint_file = os.path.join(self.checkpoint_dir, name+'_sac')\n",
        "        self.max_action = max_action\n",
        "        self.reparam_noise = 1e-6\n",
        "\n",
        "        self.fc1 = nn.Linear(*self.input_dims, self.fc1_dims)\n",
        "        self.fc2 = nn.Linear(self.fc1_dims, self.fc2_dims)\n",
        "        self.mu = nn.Linear(self.fc2_dims, self.n_actions)\n",
        "        self.sigma = nn.Linear(self.fc2_dims, self.n_actions)\n",
        "\n",
        "        self.optimizer = optim.Adam(self.parameters(), lr=alpha)\n",
        "        self.device = T.device('cuda:0' if T.cuda.is_available() else 'cpu')\n",
        "\n",
        "        self.to(self.device)\n",
        "\n",
        "    def forward(self, state):\n",
        "        prob = self.fc1(state)\n",
        "        prob = F.relu(prob)\n",
        "        prob = self.fc2(prob)\n",
        "        prob = F.relu(prob)\n",
        "\n",
        "        mu = self.mu(prob)\n",
        "        sigma = self.sigma(prob)\n",
        "\n",
        "        sigma = T.clamp(sigma, min=self.reparam_noise, max=1)\n",
        "\n",
        "        return mu, sigma\n",
        "\n",
        "    def sample_normal(self, state, reparameterize=True):\n",
        "        mu, sigma = self.forward(state)\n",
        "\n",
        "        probabilities = Normal(mu, sigma)\n",
        "\n",
        "        if reparameterize:\n",
        "            actions = probabilities.rsample()\n",
        "        else:\n",
        "            actions = probabilities.sample()\n",
        "\n",
        "        action = T.tanh(actions)*T.tensor(self.max_action).to(self.device)\n",
        "\n",
        "        log_probs = probabilities.log_prob(actions)\n",
        "        log_probs -= T.log(1-action.pow(2)+self.reparam_noise)\n",
        "        log_probs = log_probs.sum(1, keepdim=True)\n",
        "\n",
        "        return action, log_probs\n",
        "\n",
        "    def save_checkpoint(self):\n",
        "        T.save(self.state_dict(), self.checkpoint_file)\n",
        "\n",
        "    def load_checkpoint(self):\n",
        "        self.load_state_dict(T.load(self.checkpoint_file))\n"
      ],
      "metadata": {
        "id": "lh1iAGeQJmKo"
      },
      "execution_count": null,
      "outputs": []
    },
    {
      "cell_type": "code",
      "source": [
        "import numpy as np\n",
        "\n",
        "class ReplayBuffer():\n",
        "    def __init__(self, max_size, input_shape, n_actions):\n",
        "        self.mem_size = max_size\n",
        "        self.mem_cntr = 0\n",
        "        self.state_memory = np.zeros((self.mem_size, *input_shape))\n",
        "        self.new_state_memory = np.zeros((self.mem_size, *input_shape))\n",
        "        self.action_memory = np.zeros((self.mem_size, n_actions))\n",
        "        self.reward_memory = np.zeros(self.mem_size)\n",
        "        self.terminal_memory = np.zeros(self.mem_size, dtype=np.bool_)\n",
        "\n",
        "    def store_transition(self, state, action, reward, state_, done):\n",
        "        index = self.mem_cntr % self.mem_size\n",
        "\n",
        "        self.state_memory[index] = state\n",
        "        self.new_state_memory[index] = state_\n",
        "        self.action_memory[index] = action\n",
        "        self.reward_memory[index] = reward\n",
        "        self.terminal_memory[index] = done\n",
        "\n",
        "        self.mem_cntr += 1\n",
        "\n",
        "    def sample_buffer(self, batch_size):\n",
        "        max_mem = min(self.mem_cntr, self.mem_size)\n",
        "\n",
        "        batch = np.random.choice(max_mem, batch_size)\n",
        "\n",
        "        states = self.state_memory[batch]\n",
        "        states_ = self.new_state_memory[batch]\n",
        "        actions = self.action_memory[batch]\n",
        "        rewards = self.reward_memory[batch]\n",
        "        dones = self.terminal_memory[batch]\n",
        "\n",
        "        return states, actions, rewards, states_, dones\n"
      ],
      "metadata": {
        "id": "UWoGHeiRJmGb"
      },
      "execution_count": null,
      "outputs": []
    },
    {
      "cell_type": "code",
      "source": [
        "class Agent():\n",
        "    def __init__(self, alpha=0.0003, beta=0.0003, input_dims=[8],\n",
        "            env=None, gamma=0.99, n_actions=2, max_size=1000000, tau=0.005,\n",
        "            layer1_size=256, layer2_size=256, batch_size=256, reward_scale=2):\n",
        "        self.gamma = gamma\n",
        "        self.tau = tau\n",
        "        self.memory = ReplayBuffer(max_size, input_dims, n_actions)\n",
        "        self.batch_size = batch_size\n",
        "        self.n_actions = n_actions\n",
        "\n",
        "        self.actor = ActorNetwork(alpha, input_dims, n_actions=n_actions, name='actor', max_action=env.action_space.high)\n",
        "        self.critic_1 = CriticNetwork(beta, input_dims, n_actions=n_actions, name='critic_1')\n",
        "        self.critic_2 = CriticNetwork(beta, input_dims, n_actions=n_actions, name='critic_2')\n",
        "        self.value = ValueNetwork(beta, input_dims, name='value')\n",
        "        self.target_value = ValueNetwork(beta, input_dims, name='target_value')\n",
        "\n",
        "        self.scale = reward_scale\n",
        "        self.update_network_parameters(tau=1)\n",
        "\n",
        "    def choose_action(self, observation):\n",
        "        state = T.Tensor([observation]).to(self.actor.device)\n",
        "        actions, log_probs = self.actor.sample_normal(state, reparameterize=False)\n",
        "\n",
        "        return actions.cpu().detach().numpy()[0], log_probs\n",
        "\n",
        "    def remember(self, state, action, reward, new_state, done):\n",
        "        self.memory.store_transition(state, action, reward, new_state, done)\n",
        "\n",
        "    def update_network_parameters(self, tau=None):\n",
        "        if tau is None:\n",
        "            tau = self.tau\n",
        "\n",
        "        target_value_params = self.target_value.named_parameters()\n",
        "        value_params = self.value.named_parameters()\n",
        "\n",
        "        target_value_state_dict = dict(target_value_params)\n",
        "        value_state_dict = dict(value_params)\n",
        "\n",
        "        for name in value_state_dict:\n",
        "            value_state_dict[name] = tau*value_state_dict[name].clone() + (1-tau)*target_value_state_dict[name].clone()\n",
        "\n",
        "        self.target_value.load_state_dict(value_state_dict)\n",
        "\n",
        "    def save_models(self):\n",
        "        print('.... saving models ....')\n",
        "        os.makedirs('tmp/sac', exist_ok=True)\n",
        "        self.actor.save_checkpoint()\n",
        "        self.value.save_checkpoint()\n",
        "        self.target_value.save_checkpoint()\n",
        "        self.critic_1.save_checkpoint()\n",
        "        self.critic_2.save_checkpoint()\n",
        "\n",
        "    def load_models(self):\n",
        "        print('.... loading models ....')\n",
        "        self.actor.load_checkpoint()\n",
        "        self.value.load_checkpoint()\n",
        "        self.target_value.load_checkpoint()\n",
        "        self.critic_1.load_checkpoint()\n",
        "        self.critic_2.load_checkpoint()\n",
        "\n",
        "    def learn(self):\n",
        "        if self.memory.mem_cntr < self.batch_size:\n",
        "            return\n",
        "\n",
        "        state, action, reward, new_state, done = self.memory.sample_buffer(self.batch_size)\n",
        "\n",
        "        reward = T.tensor(reward, dtype=T.float).to(self.actor.device)\n",
        "        done = T.tensor(done).to(self.actor.device)\n",
        "        state_ = T.tensor(new_state, dtype=T.float).to(self.actor.device)\n",
        "        state = T.tensor(state, dtype=T.float).to(self.actor.device)\n",
        "        action = T.tensor(action, dtype=T.float).to(self.actor.device)\n",
        "\n",
        "        value = self.value(state).view(-1)\n",
        "        value_ = self.target_value(state_).view(-1)\n",
        "        value_[done] = 0.0\n",
        "\n",
        "        actions, log_probs = self.actor.sample_normal(state, reparameterize=False)\n",
        "        log_probs = log_probs.view(-1)\n",
        "        q1_new_policy = self.critic_1.forward(state, actions)\n",
        "        q2_new_policy = self.critic_2.forward(state, actions)\n",
        "        critic_value = T.min(q1_new_policy, q2_new_policy)\n",
        "        critic_value = critic_value.view(-1)\n",
        "\n",
        "        self.value.optimizer.zero_grad()\n",
        "        value_target = critic_value - log_probs #maximize Q values while lowering log probs hence entropy\n",
        "        value_loss = 0.5 * F.mse_loss(value, value_target)\n",
        "        value_loss.backward(retain_graph=True)\n",
        "        self.value.optimizer.step()\n",
        "\n",
        "        actions, log_probs = self.actor.sample_normal(state, reparameterize=True)\n",
        "        log_probs = log_probs.view(-1)\n",
        "        q1_new_policy = self.critic_1.forward(state, actions)\n",
        "        q2_new_policy = self.critic_2.forward(state, actions)\n",
        "        critic_value = T.min(q1_new_policy, q2_new_policy)\n",
        "        critic_value = critic_value.view(-1)\n",
        "\n",
        "        actor_loss = log_probs - critic_value # balance between confidence and correctness\n",
        "        actor_loss = T.mean(actor_loss)\n",
        "        self.actor.optimizer.zero_grad()\n",
        "        actor_loss.backward(retain_graph=True)\n",
        "        self.actor.optimizer.step()\n",
        "\n",
        "        self.critic_1.optimizer.zero_grad()\n",
        "        self.critic_2.optimizer.zero_grad()\n",
        "        q_hat = self.scale*reward + self.gamma*value_ #target q-value\n",
        "        q1_old_policy = self.critic_1.forward(state, action).view(-1)\n",
        "        q2_old_policy = self.critic_2.forward(state, action).view(-1)\n",
        "        critic_1_loss = 0.5 * F.mse_loss(q1_old_policy, q_hat)\n",
        "        critic_2_loss = 0.5 * F.mse_loss(q2_old_policy, q_hat)\n",
        "\n",
        "        critic_loss = critic_1_loss + critic_2_loss\n",
        "        critic_loss.backward()\n",
        "        self.critic_1.optimizer.step()\n",
        "        self.critic_2.optimizer.step()\n",
        "\n",
        "        self.update_network_parameters()\n"
      ],
      "metadata": {
        "id": "_MB1XUz6JmDA"
      },
      "execution_count": null,
      "outputs": []
    },
    {
      "cell_type": "code",
      "source": [
        "def plot_learning_curve(x, scores, figure_file):\n",
        "    running_avg = np.zeros(len(scores))\n",
        "    for i in range(len(running_avg)):\n",
        "        running_avg[i] = np.mean(scores[max(0, i-100):(i+1)])\n",
        "    plt.plot(x, running_avg)\n",
        "    plt.title('Running average of previous 100 scores')\n",
        "    os.makedirs(os.path.dirname(figure_file), exist_ok=True)\n",
        "    plt.savefig(figure_file)"
      ],
      "metadata": {
        "id": "7nsBQZkvCxZT"
      },
      "execution_count": null,
      "outputs": []
    },
    {
      "cell_type": "markdown",
      "source": [
        "weird requirments to use pybullet and mujoco"
      ],
      "metadata": {
        "id": "WtRGAacvu6ta"
      }
    },
    {
      "cell_type": "code",
      "source": [
        "!pip install pybullet\n",
        "!pip install PyBullet"
      ],
      "metadata": {
        "colab": {
          "base_uri": "https://localhost:8080/"
        },
        "id": "hmldszrBJESn",
        "outputId": "72b9e735-caf4-490a-8c34-1ddfe73b83f4"
      },
      "execution_count": null,
      "outputs": [
        {
          "output_type": "stream",
          "name": "stdout",
          "text": [
            "Collecting pybullet\n",
            "  Downloading pybullet-3.2.7-cp311-cp311-manylinux_2_17_x86_64.manylinux2014_x86_64.whl.metadata (1.8 kB)\n",
            "Downloading pybullet-3.2.7-cp311-cp311-manylinux_2_17_x86_64.manylinux2014_x86_64.whl (103.2 MB)\n",
            "\u001b[2K   \u001b[90m━━━━━━━━━━━━━━━━━━━━━━━━━━━━━━━━━━━━━━━━\u001b[0m \u001b[32m103.2/103.2 MB\u001b[0m \u001b[31m8.1 MB/s\u001b[0m eta \u001b[36m0:00:00\u001b[0m\n",
            "\u001b[?25hInstalling collected packages: pybullet\n",
            "Successfully installed pybullet-3.2.7\n",
            "Requirement already satisfied: PyBullet in /usr/local/lib/python3.11/dist-packages (3.2.7)\n"
          ]
        }
      ]
    },
    {
      "cell_type": "code",
      "source": [
        "!pip install glfw"
      ],
      "metadata": {
        "colab": {
          "base_uri": "https://localhost:8080/"
        },
        "id": "16fQehezRnWw",
        "outputId": "7f2e9034-6e3c-4baa-a5b5-e19627090ce1"
      },
      "execution_count": null,
      "outputs": [
        {
          "output_type": "stream",
          "name": "stdout",
          "text": [
            "Collecting glfw\n",
            "  Downloading glfw-2.9.0-py2.py27.py3.py30.py31.py32.py33.py34.py35.py36.py37.py38.p39.p310.p311.p312.p313-none-manylinux_2_28_x86_64.whl.metadata (5.4 kB)\n",
            "Downloading glfw-2.9.0-py2.py27.py3.py30.py31.py32.py33.py34.py35.py36.py37.py38.p39.p310.p311.p312.p313-none-manylinux_2_28_x86_64.whl (243 kB)\n",
            "\u001b[?25l   \u001b[90m━━━━━━━━━━━━━━━━━━━━━━━━━━━━━━━━━━━━━━━━\u001b[0m \u001b[32m0.0/243.5 kB\u001b[0m \u001b[31m?\u001b[0m eta \u001b[36m-:--:--\u001b[0m\r\u001b[2K   \u001b[90m━━━━━━━━━━━━━━━━━━━━━━━━━━━━━━━━━━━━━━━━\u001b[0m \u001b[32m243.5/243.5 kB\u001b[0m \u001b[31m16.4 MB/s\u001b[0m eta \u001b[36m0:00:00\u001b[0m\n",
            "\u001b[?25hInstalling collected packages: glfw\n",
            "Successfully installed glfw-2.9.0\n"
          ]
        }
      ]
    },
    {
      "cell_type": "code",
      "source": [
        "!pip install swig\n",
        "!pip install box2d-py"
      ],
      "metadata": {
        "id": "9gZJW3SlVEBQ"
      },
      "execution_count": 4,
      "outputs": []
    },
    {
      "cell_type": "code",
      "source": [
        "!pip -q install pybullet==3.2.5\n",
        "!pip -q install 'gym[all]'"
      ],
      "metadata": {
        "id": "nRcDplGBRvAk"
      },
      "execution_count": 1,
      "outputs": []
    },
    {
      "cell_type": "code",
      "source": [
        "!pip install gymnasium[mujoco]"
      ],
      "metadata": {
        "id": "9WrhpjtKWp1o"
      },
      "execution_count": 2,
      "outputs": []
    },
    {
      "cell_type": "code",
      "source": [
        "!pip install gymnasium[mujoco-py]"
      ],
      "metadata": {
        "id": "KE1lJts0XLVa"
      },
      "execution_count": 3,
      "outputs": []
    },
    {
      "cell_type": "code",
      "source": [
        "import glfw\n",
        "import pybullet_envs\n",
        "import gym\n",
        "import gymnasium as gym_new\n",
        "\n",
        "env = gym.make('InvertedPendulumBulletEnv-v0')\n",
        "\n",
        "\n",
        "agent = Agent(input_dims=env.observation_space.shape, env=env,\n",
        "        n_actions=env.action_space.shape[0])\n",
        "n_games = 300\n",
        "\n",
        "filename = 'inverted_pendulum.png'\n",
        "\n",
        "figure_file = 'plots/' + filename\n",
        "\n",
        "best_score = env.reward_range[0]\n",
        "score_history = []\n",
        "\n",
        "\n",
        "for i in range(n_games):\n",
        "    observation = env.reset()\n",
        "    done = False\n",
        "    score = 0\n",
        "    while not done:\n",
        "        action, _ = agent.choose_action(observation)\n",
        "        observation_, reward, done, info = env.step(action)\n",
        "        score += reward\n",
        "        agent.remember(observation, action, reward, observation_, done)\n",
        "\n",
        "        agent.learn()\n",
        "        observation = observation_\n",
        "    score_history.append(score)\n",
        "    avg_score = np.mean(score_history[-100:])\n",
        "\n",
        "    if avg_score > best_score:\n",
        "        best_score = avg_score\n",
        "\n",
        "        agent.save_models()\n",
        "\n",
        "    print('episode ', i, 'score %.1f' % score, 'avg_score %.1f' % avg_score)"
      ],
      "metadata": {
        "id": "ZcyDny2UJmAp"
      },
      "execution_count": 5,
      "outputs": []
    },
    {
      "cell_type": "code",
      "source": [
        "x = [i+1 for i in range(157)]\n",
        "plot_learning_curve(x, score_history, figure_file)"
      ],
      "metadata": {
        "id": "YM2j5nYCGiJo"
      },
      "execution_count": 6,
      "outputs": []
    },
    {
      "cell_type": "code",
      "source": [],
      "metadata": {
        "id": "9zlvaW38gd6x"
      },
      "execution_count": null,
      "outputs": []
    }
  ]
}